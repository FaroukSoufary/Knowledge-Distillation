{
  "cells": [
    {
      "cell_type": "markdown",
      "metadata": {
        "id": "kM65zn0cUzbQ"
      },
      "source": [
        "# Knowledge Distillation from Resnet34 with CIFAR10\n",
        "\n",
        "\n",
        "\n",
        "In this notebook, I tried applying the Knowledge Distillation technique for a learning purpose.\n",
        "\n",
        "I created a student model, to which I transferred knowledge from Restnet34 and then tested it.\n",
        "\n",
        "I reproduced some experiments from the paper on the CIFAR10 dataset to explore the effect of \"Dark Knowledge\".\n",
        "\n",
        "References :\n",
        "- https://arxiv.org/abs/1503.02531\n",
        "- https://www.ttic.edu/dl/dark14.pdf"
      ]
    },
    {
      "cell_type": "code",
      "execution_count": 1,
      "metadata": {
        "id": "daY3hz3fPcgE"
      },
      "outputs": [],
      "source": [
        "import torch\n",
        "import torch.nn as nn\n",
        "import torch.optim as optim\n",
        "from torchvision import datasets, transforms\n",
        "from torchvision.models import ResNet34_Weights, resnet34\n",
        "import torch.nn.functional as F"
      ]
    },
    {
      "cell_type": "markdown",
      "metadata": {
        "id": "YyFh81JEYTJn"
      },
      "source": [
        "Here I defined the wrapper of my Teacher model which is simply the Resnet34 model, initially pre-trained on ImageNet-1k at resolution 224x224, I changed it's last MLP layer in order to adapt it for a CIFAR10 (1 Linear layer of 10 outputs)"
      ]
    },
    {
      "cell_type": "code",
      "execution_count": 2,
      "metadata": {
        "id": "vprjWGc-dunu"
      },
      "outputs": [],
      "source": [
        "class ResnetModel(nn.Module):\n",
        "        def __init__(self):\n",
        "                super().__init__()\n",
        "                self.network = resnet34(ResNet34_Weights)\n",
        "                num_ftrs = self.network.fc.in_features\n",
        "\n",
        "                self.network.fc = nn.Linear(num_ftrs, 10) # Change the output dim of resnet34 to 10 for CIFAR10\n",
        "\n",
        "        def forward(self, xb):\n",
        "                return self.network(xb)"
      ]
    },
    {
      "cell_type": "markdown",
      "metadata": {
        "id": "WeRht9GOZBoj"
      },
      "source": [
        "Here I defined my own architecture for the Student model"
      ]
    },
    {
      "cell_type": "code",
      "execution_count": 4,
      "metadata": {
        "id": "MOv4EjxpPi-D"
      },
      "outputs": [],
      "source": [
        "class Student(nn.Module):\n",
        "    def __init__(self, num_classes):\n",
        "        super(Student, self).__init__()\n",
        "        self.features = nn.Sequential(\n",
        "            nn.Conv2d(3, 64, kernel_size=3, stride=1, padding=1),\n",
        "            nn.ReLU(inplace=True),\n",
        "            nn.MaxPool2d(kernel_size=2, stride=2),\n",
        "            nn.Conv2d(64, 128, kernel_size=3, stride=1, padding=1),\n",
        "            nn.ReLU(inplace=True),\n",
        "            nn.MaxPool2d(kernel_size=2, stride=2),\n",
        "            nn.Conv2d(128, 256, kernel_size=3, stride=1, padding=1),\n",
        "            nn.ReLU(inplace=True),\n",
        "            nn.MaxPool2d(kernel_size=2, stride=2),\n",
        "        )\n",
        "        self.fc = nn.Sequential(\n",
        "            nn.Linear(4096, 128),\n",
        "            nn.ReLU(),\n",
        "            nn.Linear(128, num_classes)\n",
        "        )\n",
        "\n",
        "\n",
        "    def forward(self, x):\n",
        "        x = self.features(x)\n",
        "        x = x.view(x.size(0), -1)\n",
        "        x = self.fc(x)\n",
        "        return x"
      ]
    },
    {
      "cell_type": "markdown",
      "metadata": {
        "id": "T5cdjbosZF4k"
      },
      "source": [
        "A simple data preparation step"
      ]
    },
    {
      "cell_type": "code",
      "execution_count": 5,
      "metadata": {
        "colab": {
          "base_uri": "https://localhost:8080/"
        },
        "id": "uSkfZuLSkJYL",
        "outputId": "db9d0e42-9b3c-4428-a188-2b201b59ff03"
      },
      "outputs": [
        {
          "name": "stdout",
          "output_type": "stream",
          "text": [
            "Downloading https://www.cs.toronto.edu/~kriz/cifar-10-python.tar.gz to ./data/cifar-10-python.tar.gz\n"
          ]
        },
        {
          "name": "stderr",
          "output_type": "stream",
          "text": [
            "100%|██████████| 170M/170M [00:04<00:00, 34.6MB/s]\n"
          ]
        },
        {
          "name": "stdout",
          "output_type": "stream",
          "text": [
            "Extracting ./data/cifar-10-python.tar.gz to ./data\n",
            "Files already downloaded and verified\n"
          ]
        }
      ],
      "source": [
        "transform_train = transforms.Compose([\n",
        "    transforms.RandomHorizontalFlip(),\n",
        "    transforms.RandomCrop(32, padding=4),\n",
        "    transforms.ToTensor(),\n",
        "    transforms.Normalize((0.5, 0.5, 0.5), (0.5, 0.5, 0.5)),\n",
        "])\n",
        "\n",
        "transform_test = transforms.Compose([\n",
        "    transforms.ToTensor(),\n",
        "    transforms.Normalize((0.5, 0.5, 0.5), (0.5, 0.5, 0.5)),\n",
        "])\n",
        "\n",
        "batch_size = 128\n",
        "\n",
        "train_dataset = datasets.CIFAR10(root='./data', train=True, download=True, transform=transform_train)\n",
        "train_loader = torch.utils.data.DataLoader(train_dataset, batch_size=batch_size, shuffle=True, num_workers=2)\n",
        "\n",
        "test_dataset = datasets.CIFAR10(root='./data', train=False, download=True, transform=transform_test)\n",
        "test_loader = torch.utils.data.DataLoader(test_dataset, batch_size=batch_size, shuffle=False, num_workers=2)\n"
      ]
    },
    {
      "cell_type": "markdown",
      "metadata": {
        "id": "klmvNZHKhvYh"
      },
      "source": [
        "We can see that the student model is 23 times smaller compared to the teacher"
      ]
    },
    {
      "cell_type": "code",
      "execution_count": 6,
      "metadata": {
        "colab": {
          "base_uri": "https://localhost:8080/"
        },
        "id": "6SjAlbTHQbfQ",
        "outputId": "8e65903b-8e68-4b2c-d505-807da8b00cab"
      },
      "outputs": [
        {
          "name": "stderr",
          "output_type": "stream",
          "text": [
            "/usr/local/lib/python3.10/dist-packages/torchvision/models/_utils.py:135: UserWarning: Using 'weights' as positional parameter(s) is deprecated since 0.13 and may be removed in the future. Please use keyword parameter(s) instead.\n",
            "  warnings.warn(\n",
            "/usr/local/lib/python3.10/dist-packages/torchvision/models/_utils.py:223: UserWarning: Arguments other than a weight enum or `None` for 'weights' are deprecated since 0.13 and may be removed in the future. The current behavior is equivalent to passing `weights=ResNet34_Weights.IMAGENET1K_V1`. You can also use `weights=ResNet34_Weights.DEFAULT` to get the most up-to-date weights.\n",
            "  warnings.warn(msg)\n",
            "Downloading: \"https://download.pytorch.org/models/resnet34-b627a593.pth\" to /root/.cache/torch/hub/checkpoints/resnet34-b627a593.pth\n",
            "100%|██████████| 83.3M/83.3M [00:01<00:00, 87.1MB/s]\n"
          ]
        },
        {
          "name": "stdout",
          "output_type": "stream",
          "text": [
            "Teacher parameters: 21,289,802\n",
            "Student parameters: 896,522\n"
          ]
        }
      ],
      "source": [
        "torch.manual_seed(42)\n",
        "teacher_model = ResnetModel()\n",
        "torch.manual_seed(42)\n",
        "simple_model = Student(num_classes=10)\n",
        "torch.manual_seed(42)\n",
        "student_model = Student(num_classes=10)\n",
        "\n",
        "\n",
        "total_params_deep = \"{:,}\".format(sum(p.numel() for p in teacher_model.parameters()))\n",
        "print(f\"Teacher parameters: {total_params_deep}\")\n",
        "total_params_light = \"{:,}\".format(sum(p.numel() for p in student_model.parameters()))\n",
        "print(f\"Student parameters: {total_params_light}\")"
      ]
    },
    {
      "cell_type": "code",
      "execution_count": null,
      "metadata": {
        "colab": {
          "base_uri": "https://localhost:8080/"
        },
        "id": "Hlrv44j9GHAR",
        "outputId": "0857dda6-3b23-468b-dbcc-96ef078d0786"
      },
      "outputs": [
        {
          "data": {
            "text/plain": [
              "ResnetModel(\n",
              "  (network): ResNet(\n",
              "    (conv1): Conv2d(3, 64, kernel_size=(7, 7), stride=(2, 2), padding=(3, 3), bias=False)\n",
              "    (bn1): BatchNorm2d(64, eps=1e-05, momentum=0.1, affine=True, track_running_stats=True)\n",
              "    (relu): ReLU(inplace=True)\n",
              "    (maxpool): MaxPool2d(kernel_size=3, stride=2, padding=1, dilation=1, ceil_mode=False)\n",
              "    (layer1): Sequential(\n",
              "      (0): BasicBlock(\n",
              "        (conv1): Conv2d(64, 64, kernel_size=(3, 3), stride=(1, 1), padding=(1, 1), bias=False)\n",
              "        (bn1): BatchNorm2d(64, eps=1e-05, momentum=0.1, affine=True, track_running_stats=True)\n",
              "        (relu): ReLU(inplace=True)\n",
              "        (conv2): Conv2d(64, 64, kernel_size=(3, 3), stride=(1, 1), padding=(1, 1), bias=False)\n",
              "        (bn2): BatchNorm2d(64, eps=1e-05, momentum=0.1, affine=True, track_running_stats=True)\n",
              "      )\n",
              "      (1): BasicBlock(\n",
              "        (conv1): Conv2d(64, 64, kernel_size=(3, 3), stride=(1, 1), padding=(1, 1), bias=False)\n",
              "        (bn1): BatchNorm2d(64, eps=1e-05, momentum=0.1, affine=True, track_running_stats=True)\n",
              "        (relu): ReLU(inplace=True)\n",
              "        (conv2): Conv2d(64, 64, kernel_size=(3, 3), stride=(1, 1), padding=(1, 1), bias=False)\n",
              "        (bn2): BatchNorm2d(64, eps=1e-05, momentum=0.1, affine=True, track_running_stats=True)\n",
              "      )\n",
              "      (2): BasicBlock(\n",
              "        (conv1): Conv2d(64, 64, kernel_size=(3, 3), stride=(1, 1), padding=(1, 1), bias=False)\n",
              "        (bn1): BatchNorm2d(64, eps=1e-05, momentum=0.1, affine=True, track_running_stats=True)\n",
              "        (relu): ReLU(inplace=True)\n",
              "        (conv2): Conv2d(64, 64, kernel_size=(3, 3), stride=(1, 1), padding=(1, 1), bias=False)\n",
              "        (bn2): BatchNorm2d(64, eps=1e-05, momentum=0.1, affine=True, track_running_stats=True)\n",
              "      )\n",
              "    )\n",
              "    (layer2): Sequential(\n",
              "      (0): BasicBlock(\n",
              "        (conv1): Conv2d(64, 128, kernel_size=(3, 3), stride=(2, 2), padding=(1, 1), bias=False)\n",
              "        (bn1): BatchNorm2d(128, eps=1e-05, momentum=0.1, affine=True, track_running_stats=True)\n",
              "        (relu): ReLU(inplace=True)\n",
              "        (conv2): Conv2d(128, 128, kernel_size=(3, 3), stride=(1, 1), padding=(1, 1), bias=False)\n",
              "        (bn2): BatchNorm2d(128, eps=1e-05, momentum=0.1, affine=True, track_running_stats=True)\n",
              "        (downsample): Sequential(\n",
              "          (0): Conv2d(64, 128, kernel_size=(1, 1), stride=(2, 2), bias=False)\n",
              "          (1): BatchNorm2d(128, eps=1e-05, momentum=0.1, affine=True, track_running_stats=True)\n",
              "        )\n",
              "      )\n",
              "      (1): BasicBlock(\n",
              "        (conv1): Conv2d(128, 128, kernel_size=(3, 3), stride=(1, 1), padding=(1, 1), bias=False)\n",
              "        (bn1): BatchNorm2d(128, eps=1e-05, momentum=0.1, affine=True, track_running_stats=True)\n",
              "        (relu): ReLU(inplace=True)\n",
              "        (conv2): Conv2d(128, 128, kernel_size=(3, 3), stride=(1, 1), padding=(1, 1), bias=False)\n",
              "        (bn2): BatchNorm2d(128, eps=1e-05, momentum=0.1, affine=True, track_running_stats=True)\n",
              "      )\n",
              "      (2): BasicBlock(\n",
              "        (conv1): Conv2d(128, 128, kernel_size=(3, 3), stride=(1, 1), padding=(1, 1), bias=False)\n",
              "        (bn1): BatchNorm2d(128, eps=1e-05, momentum=0.1, affine=True, track_running_stats=True)\n",
              "        (relu): ReLU(inplace=True)\n",
              "        (conv2): Conv2d(128, 128, kernel_size=(3, 3), stride=(1, 1), padding=(1, 1), bias=False)\n",
              "        (bn2): BatchNorm2d(128, eps=1e-05, momentum=0.1, affine=True, track_running_stats=True)\n",
              "      )\n",
              "      (3): BasicBlock(\n",
              "        (conv1): Conv2d(128, 128, kernel_size=(3, 3), stride=(1, 1), padding=(1, 1), bias=False)\n",
              "        (bn1): BatchNorm2d(128, eps=1e-05, momentum=0.1, affine=True, track_running_stats=True)\n",
              "        (relu): ReLU(inplace=True)\n",
              "        (conv2): Conv2d(128, 128, kernel_size=(3, 3), stride=(1, 1), padding=(1, 1), bias=False)\n",
              "        (bn2): BatchNorm2d(128, eps=1e-05, momentum=0.1, affine=True, track_running_stats=True)\n",
              "      )\n",
              "    )\n",
              "    (layer3): Sequential(\n",
              "      (0): BasicBlock(\n",
              "        (conv1): Conv2d(128, 256, kernel_size=(3, 3), stride=(2, 2), padding=(1, 1), bias=False)\n",
              "        (bn1): BatchNorm2d(256, eps=1e-05, momentum=0.1, affine=True, track_running_stats=True)\n",
              "        (relu): ReLU(inplace=True)\n",
              "        (conv2): Conv2d(256, 256, kernel_size=(3, 3), stride=(1, 1), padding=(1, 1), bias=False)\n",
              "        (bn2): BatchNorm2d(256, eps=1e-05, momentum=0.1, affine=True, track_running_stats=True)\n",
              "        (downsample): Sequential(\n",
              "          (0): Conv2d(128, 256, kernel_size=(1, 1), stride=(2, 2), bias=False)\n",
              "          (1): BatchNorm2d(256, eps=1e-05, momentum=0.1, affine=True, track_running_stats=True)\n",
              "        )\n",
              "      )\n",
              "      (1): BasicBlock(\n",
              "        (conv1): Conv2d(256, 256, kernel_size=(3, 3), stride=(1, 1), padding=(1, 1), bias=False)\n",
              "        (bn1): BatchNorm2d(256, eps=1e-05, momentum=0.1, affine=True, track_running_stats=True)\n",
              "        (relu): ReLU(inplace=True)\n",
              "        (conv2): Conv2d(256, 256, kernel_size=(3, 3), stride=(1, 1), padding=(1, 1), bias=False)\n",
              "        (bn2): BatchNorm2d(256, eps=1e-05, momentum=0.1, affine=True, track_running_stats=True)\n",
              "      )\n",
              "      (2): BasicBlock(\n",
              "        (conv1): Conv2d(256, 256, kernel_size=(3, 3), stride=(1, 1), padding=(1, 1), bias=False)\n",
              "        (bn1): BatchNorm2d(256, eps=1e-05, momentum=0.1, affine=True, track_running_stats=True)\n",
              "        (relu): ReLU(inplace=True)\n",
              "        (conv2): Conv2d(256, 256, kernel_size=(3, 3), stride=(1, 1), padding=(1, 1), bias=False)\n",
              "        (bn2): BatchNorm2d(256, eps=1e-05, momentum=0.1, affine=True, track_running_stats=True)\n",
              "      )\n",
              "      (3): BasicBlock(\n",
              "        (conv1): Conv2d(256, 256, kernel_size=(3, 3), stride=(1, 1), padding=(1, 1), bias=False)\n",
              "        (bn1): BatchNorm2d(256, eps=1e-05, momentum=0.1, affine=True, track_running_stats=True)\n",
              "        (relu): ReLU(inplace=True)\n",
              "        (conv2): Conv2d(256, 256, kernel_size=(3, 3), stride=(1, 1), padding=(1, 1), bias=False)\n",
              "        (bn2): BatchNorm2d(256, eps=1e-05, momentum=0.1, affine=True, track_running_stats=True)\n",
              "      )\n",
              "      (4): BasicBlock(\n",
              "        (conv1): Conv2d(256, 256, kernel_size=(3, 3), stride=(1, 1), padding=(1, 1), bias=False)\n",
              "        (bn1): BatchNorm2d(256, eps=1e-05, momentum=0.1, affine=True, track_running_stats=True)\n",
              "        (relu): ReLU(inplace=True)\n",
              "        (conv2): Conv2d(256, 256, kernel_size=(3, 3), stride=(1, 1), padding=(1, 1), bias=False)\n",
              "        (bn2): BatchNorm2d(256, eps=1e-05, momentum=0.1, affine=True, track_running_stats=True)\n",
              "      )\n",
              "      (5): BasicBlock(\n",
              "        (conv1): Conv2d(256, 256, kernel_size=(3, 3), stride=(1, 1), padding=(1, 1), bias=False)\n",
              "        (bn1): BatchNorm2d(256, eps=1e-05, momentum=0.1, affine=True, track_running_stats=True)\n",
              "        (relu): ReLU(inplace=True)\n",
              "        (conv2): Conv2d(256, 256, kernel_size=(3, 3), stride=(1, 1), padding=(1, 1), bias=False)\n",
              "        (bn2): BatchNorm2d(256, eps=1e-05, momentum=0.1, affine=True, track_running_stats=True)\n",
              "      )\n",
              "    )\n",
              "    (layer4): Sequential(\n",
              "      (0): BasicBlock(\n",
              "        (conv1): Conv2d(256, 512, kernel_size=(3, 3), stride=(2, 2), padding=(1, 1), bias=False)\n",
              "        (bn1): BatchNorm2d(512, eps=1e-05, momentum=0.1, affine=True, track_running_stats=True)\n",
              "        (relu): ReLU(inplace=True)\n",
              "        (conv2): Conv2d(512, 512, kernel_size=(3, 3), stride=(1, 1), padding=(1, 1), bias=False)\n",
              "        (bn2): BatchNorm2d(512, eps=1e-05, momentum=0.1, affine=True, track_running_stats=True)\n",
              "        (downsample): Sequential(\n",
              "          (0): Conv2d(256, 512, kernel_size=(1, 1), stride=(2, 2), bias=False)\n",
              "          (1): BatchNorm2d(512, eps=1e-05, momentum=0.1, affine=True, track_running_stats=True)\n",
              "        )\n",
              "      )\n",
              "      (1): BasicBlock(\n",
              "        (conv1): Conv2d(512, 512, kernel_size=(3, 3), stride=(1, 1), padding=(1, 1), bias=False)\n",
              "        (bn1): BatchNorm2d(512, eps=1e-05, momentum=0.1, affine=True, track_running_stats=True)\n",
              "        (relu): ReLU(inplace=True)\n",
              "        (conv2): Conv2d(512, 512, kernel_size=(3, 3), stride=(1, 1), padding=(1, 1), bias=False)\n",
              "        (bn2): BatchNorm2d(512, eps=1e-05, momentum=0.1, affine=True, track_running_stats=True)\n",
              "      )\n",
              "      (2): BasicBlock(\n",
              "        (conv1): Conv2d(512, 512, kernel_size=(3, 3), stride=(1, 1), padding=(1, 1), bias=False)\n",
              "        (bn1): BatchNorm2d(512, eps=1e-05, momentum=0.1, affine=True, track_running_stats=True)\n",
              "        (relu): ReLU(inplace=True)\n",
              "        (conv2): Conv2d(512, 512, kernel_size=(3, 3), stride=(1, 1), padding=(1, 1), bias=False)\n",
              "        (bn2): BatchNorm2d(512, eps=1e-05, momentum=0.1, affine=True, track_running_stats=True)\n",
              "      )\n",
              "    )\n",
              "    (avgpool): AdaptiveAvgPool2d(output_size=(1, 1))\n",
              "    (fc): Linear(in_features=512, out_features=10, bias=True)\n",
              "  )\n",
              ")"
            ]
          },
          "execution_count": 6,
          "metadata": {},
          "output_type": "execute_result"
        }
      ],
      "source": [
        "teacher_model"
      ]
    },
    {
      "cell_type": "markdown",
      "metadata": {
        "id": "jwvO-AZcZbRv"
      },
      "source": [
        "Time to train the teacher further on CIFAR10"
      ]
    },
    {
      "cell_type": "code",
      "execution_count": 7,
      "metadata": {
        "id": "XBpeasebRBUq"
      },
      "outputs": [],
      "source": [
        "criterion_t = nn.CrossEntropyLoss()\n",
        "criterion_sim = nn.CrossEntropyLoss()\n",
        "optimizer_t = optim.Adam(teacher_model.parameters(), lr=0.001)"
      ]
    },
    {
      "cell_type": "code",
      "execution_count": 8,
      "metadata": {
        "colab": {
          "base_uri": "https://localhost:8080/"
        },
        "id": "8AzG1dXrRE9x",
        "outputId": "8eb803e6-bfda-4234-cc30-c7fb5120d02d"
      },
      "outputs": [
        {
          "name": "stdout",
          "output_type": "stream",
          "text": [
            "Using :  cuda:0\n",
            "Epoch [1/50], Loss: 0.8612\n",
            "Epoch [2/50], Loss: 0.6770\n",
            "Epoch [3/50], Loss: 0.9706\n",
            "Epoch [4/50], Loss: 0.4841\n",
            "Epoch [5/50], Loss: 0.4967\n",
            "Epoch [6/50], Loss: 0.4358\n",
            "Epoch [7/50], Loss: 0.4096\n",
            "Epoch [8/50], Loss: 0.5390\n",
            "Epoch [9/50], Loss: 0.4163\n",
            "Epoch [10/50], Loss: 0.4990\n",
            "Epoch [11/50], Loss: 0.3776\n",
            "Epoch [12/50], Loss: 0.5265\n",
            "Epoch [13/50], Loss: 0.2490\n",
            "Epoch [14/50], Loss: 0.5755\n",
            "Epoch [15/50], Loss: 0.3045\n",
            "Epoch [16/50], Loss: 0.3976\n",
            "Epoch [17/50], Loss: 0.1986\n",
            "Epoch [18/50], Loss: 0.2954\n",
            "Epoch [19/50], Loss: 0.1914\n",
            "Epoch [20/50], Loss: 0.3014\n",
            "Epoch [21/50], Loss: 0.1989\n",
            "Epoch [22/50], Loss: 0.4760\n",
            "Epoch [23/50], Loss: 0.2308\n",
            "Epoch [24/50], Loss: 0.1398\n",
            "Epoch [25/50], Loss: 0.3439\n",
            "Epoch [26/50], Loss: 0.5407\n",
            "Epoch [27/50], Loss: 0.3623\n",
            "Epoch [28/50], Loss: 0.2648\n",
            "Epoch [29/50], Loss: 0.4267\n",
            "Epoch [30/50], Loss: 0.3841\n",
            "Epoch [31/50], Loss: 0.2259\n",
            "Epoch [32/50], Loss: 0.2190\n",
            "Epoch [33/50], Loss: 0.1335\n",
            "Epoch [34/50], Loss: 0.2255\n",
            "Epoch [35/50], Loss: 0.1910\n",
            "Epoch [36/50], Loss: 0.1283\n",
            "Epoch [37/50], Loss: 0.1870\n",
            "Epoch [38/50], Loss: 0.2246\n",
            "Epoch [39/50], Loss: 0.2837\n",
            "Epoch [40/50], Loss: 0.1608\n",
            "Epoch [41/50], Loss: 0.0969\n",
            "Epoch [42/50], Loss: 0.1493\n",
            "Epoch [43/50], Loss: 0.0901\n",
            "Epoch [44/50], Loss: 0.1817\n",
            "Epoch [45/50], Loss: 0.1006\n",
            "Epoch [46/50], Loss: 0.0949\n",
            "Epoch [47/50], Loss: 0.0905\n",
            "Epoch [48/50], Loss: 0.1409\n",
            "Epoch [49/50], Loss: 0.1413\n",
            "Epoch [50/50], Loss: 0.1709\n",
            "Model trained and saved.\n",
            "Teacher Accuracy :  0.8659\n"
          ]
        }
      ],
      "source": [
        "import os\n",
        "\n",
        "device = torch.device(\"cuda:0\" if torch.cuda.is_available() else \"cpu\")\n",
        "\n",
        "\n",
        "if os.path.exists('teacher.pth'):\n",
        "  checkpoint_path = './teacher.pth'\n",
        "  teacher_model.load_state_dict(torch.load(checkpoint_path))\n",
        "else:\n",
        "    #Teacher Training loop\n",
        "    teacher_accuracies = []\n",
        "    teacher_losses = []\n",
        "    print(\"Using : \", device)\n",
        "    criterion_t.to(device)\n",
        "    teacher_model.to(device)\n",
        "    num_epochs = 50\n",
        "    for epoch in range(num_epochs):\n",
        "        teacher_model.train()\n",
        "        mean_loss = 0\n",
        "        for inputs, labels in train_loader:\n",
        "            optimizer_t.zero_grad()\n",
        "            inputs = inputs.to(device)\n",
        "            labels = labels.to(device)\n",
        "            outputs = teacher_model(inputs)\n",
        "            loss = criterion_t(outputs, labels)\n",
        "            mean_loss += loss.item()\n",
        "\n",
        "            loss.backward()\n",
        "            optimizer_t.step()\n",
        "\n",
        "        mean_loss /= len(train_loader)\n",
        "        teacher_losses.append(mean_loss)\n",
        "        print(f'Epoch [{epoch+1}/{num_epochs}], Loss: {loss.item():.4f}')\n",
        "\n",
        "    torch.save(teacher_model.state_dict(), \"./teacher.pth\")\n",
        "    print(\"Model trained and saved.\")\n",
        "\n",
        "\n",
        "# Testing the teacher\n",
        "\n",
        "teacher_model.to(device)\n",
        "teacher_model.eval()\n",
        "teacher_correct = 0\n",
        "total = 0\n",
        "\n",
        "with torch.no_grad():\n",
        "    for inputs, labels in test_loader:\n",
        "        inputs = inputs.to(device)\n",
        "        labels = labels.to(device)\n",
        "\n",
        "        teacher_outputs = teacher_model(inputs)\n",
        "        teacher_outputs = F.softmax(teacher_outputs, 1)\n",
        "        _, teacher_predicted = torch.max(teacher_outputs.data, 1)\n",
        "        teacher_correct += (teacher_predicted == labels).sum().item()\n",
        "        total += labels.size(0)\n",
        "\n",
        "teacher_accuracy = teacher_correct / total\n",
        "print(\"Teacher Accuracy : \", teacher_accuracy)"
      ]
    },
    {
      "cell_type": "markdown",
      "metadata": {
        "id": "TDnQadbzZ67G"
      },
      "source": [
        "I didn't use early-stopping here because my goal is not achieving the optimal performance, I just need to reproduce the dark knowledge effect (The pressure was real during that semester ngl)"
      ]
    },
    {
      "cell_type": "markdown",
      "metadata": {
        "id": "P8UUdfu6aSxU"
      },
      "source": [
        "Using Flopco to compare FLOPS between the Teacher and the Student cus why not :D"
      ]
    },
    {
      "cell_type": "code",
      "execution_count": 9,
      "metadata": {
        "colab": {
          "base_uri": "https://localhost:8080/"
        },
        "id": "SC7zQTpPDidC",
        "outputId": "86744105-0883-402a-8579-0cb02eaf2bb4"
      },
      "outputs": [
        {
          "name": "stdout",
          "output_type": "stream",
          "text": [
            "Collecting flopco-pytorch\n",
            "  Downloading flopco_pytorch-0.1.4-py3-none-any.whl.metadata (411 bytes)\n",
            "Downloading flopco_pytorch-0.1.4-py3-none-any.whl (4.6 kB)\n",
            "Installing collected packages: flopco-pytorch\n",
            "Successfully installed flopco-pytorch-0.1.4\n",
            "Teacher Model FLOPS :  149531136\n"
          ]
        },
        {
          "data": {
            "text/plain": [
              "ResnetModel(\n",
              "  (network): ResNet(\n",
              "    (conv1): Conv2d(3, 64, kernel_size=(7, 7), stride=(2, 2), padding=(3, 3), bias=False)\n",
              "    (bn1): BatchNorm2d(64, eps=1e-05, momentum=0.1, affine=True, track_running_stats=True)\n",
              "    (relu): ReLU(inplace=True)\n",
              "    (maxpool): MaxPool2d(kernel_size=3, stride=2, padding=1, dilation=1, ceil_mode=False)\n",
              "    (layer1): Sequential(\n",
              "      (0): BasicBlock(\n",
              "        (conv1): Conv2d(64, 64, kernel_size=(3, 3), stride=(1, 1), padding=(1, 1), bias=False)\n",
              "        (bn1): BatchNorm2d(64, eps=1e-05, momentum=0.1, affine=True, track_running_stats=True)\n",
              "        (relu): ReLU(inplace=True)\n",
              "        (conv2): Conv2d(64, 64, kernel_size=(3, 3), stride=(1, 1), padding=(1, 1), bias=False)\n",
              "        (bn2): BatchNorm2d(64, eps=1e-05, momentum=0.1, affine=True, track_running_stats=True)\n",
              "      )\n",
              "      (1): BasicBlock(\n",
              "        (conv1): Conv2d(64, 64, kernel_size=(3, 3), stride=(1, 1), padding=(1, 1), bias=False)\n",
              "        (bn1): BatchNorm2d(64, eps=1e-05, momentum=0.1, affine=True, track_running_stats=True)\n",
              "        (relu): ReLU(inplace=True)\n",
              "        (conv2): Conv2d(64, 64, kernel_size=(3, 3), stride=(1, 1), padding=(1, 1), bias=False)\n",
              "        (bn2): BatchNorm2d(64, eps=1e-05, momentum=0.1, affine=True, track_running_stats=True)\n",
              "      )\n",
              "      (2): BasicBlock(\n",
              "        (conv1): Conv2d(64, 64, kernel_size=(3, 3), stride=(1, 1), padding=(1, 1), bias=False)\n",
              "        (bn1): BatchNorm2d(64, eps=1e-05, momentum=0.1, affine=True, track_running_stats=True)\n",
              "        (relu): ReLU(inplace=True)\n",
              "        (conv2): Conv2d(64, 64, kernel_size=(3, 3), stride=(1, 1), padding=(1, 1), bias=False)\n",
              "        (bn2): BatchNorm2d(64, eps=1e-05, momentum=0.1, affine=True, track_running_stats=True)\n",
              "      )\n",
              "    )\n",
              "    (layer2): Sequential(\n",
              "      (0): BasicBlock(\n",
              "        (conv1): Conv2d(64, 128, kernel_size=(3, 3), stride=(2, 2), padding=(1, 1), bias=False)\n",
              "        (bn1): BatchNorm2d(128, eps=1e-05, momentum=0.1, affine=True, track_running_stats=True)\n",
              "        (relu): ReLU(inplace=True)\n",
              "        (conv2): Conv2d(128, 128, kernel_size=(3, 3), stride=(1, 1), padding=(1, 1), bias=False)\n",
              "        (bn2): BatchNorm2d(128, eps=1e-05, momentum=0.1, affine=True, track_running_stats=True)\n",
              "        (downsample): Sequential(\n",
              "          (0): Conv2d(64, 128, kernel_size=(1, 1), stride=(2, 2), bias=False)\n",
              "          (1): BatchNorm2d(128, eps=1e-05, momentum=0.1, affine=True, track_running_stats=True)\n",
              "        )\n",
              "      )\n",
              "      (1): BasicBlock(\n",
              "        (conv1): Conv2d(128, 128, kernel_size=(3, 3), stride=(1, 1), padding=(1, 1), bias=False)\n",
              "        (bn1): BatchNorm2d(128, eps=1e-05, momentum=0.1, affine=True, track_running_stats=True)\n",
              "        (relu): ReLU(inplace=True)\n",
              "        (conv2): Conv2d(128, 128, kernel_size=(3, 3), stride=(1, 1), padding=(1, 1), bias=False)\n",
              "        (bn2): BatchNorm2d(128, eps=1e-05, momentum=0.1, affine=True, track_running_stats=True)\n",
              "      )\n",
              "      (2): BasicBlock(\n",
              "        (conv1): Conv2d(128, 128, kernel_size=(3, 3), stride=(1, 1), padding=(1, 1), bias=False)\n",
              "        (bn1): BatchNorm2d(128, eps=1e-05, momentum=0.1, affine=True, track_running_stats=True)\n",
              "        (relu): ReLU(inplace=True)\n",
              "        (conv2): Conv2d(128, 128, kernel_size=(3, 3), stride=(1, 1), padding=(1, 1), bias=False)\n",
              "        (bn2): BatchNorm2d(128, eps=1e-05, momentum=0.1, affine=True, track_running_stats=True)\n",
              "      )\n",
              "      (3): BasicBlock(\n",
              "        (conv1): Conv2d(128, 128, kernel_size=(3, 3), stride=(1, 1), padding=(1, 1), bias=False)\n",
              "        (bn1): BatchNorm2d(128, eps=1e-05, momentum=0.1, affine=True, track_running_stats=True)\n",
              "        (relu): ReLU(inplace=True)\n",
              "        (conv2): Conv2d(128, 128, kernel_size=(3, 3), stride=(1, 1), padding=(1, 1), bias=False)\n",
              "        (bn2): BatchNorm2d(128, eps=1e-05, momentum=0.1, affine=True, track_running_stats=True)\n",
              "      )\n",
              "    )\n",
              "    (layer3): Sequential(\n",
              "      (0): BasicBlock(\n",
              "        (conv1): Conv2d(128, 256, kernel_size=(3, 3), stride=(2, 2), padding=(1, 1), bias=False)\n",
              "        (bn1): BatchNorm2d(256, eps=1e-05, momentum=0.1, affine=True, track_running_stats=True)\n",
              "        (relu): ReLU(inplace=True)\n",
              "        (conv2): Conv2d(256, 256, kernel_size=(3, 3), stride=(1, 1), padding=(1, 1), bias=False)\n",
              "        (bn2): BatchNorm2d(256, eps=1e-05, momentum=0.1, affine=True, track_running_stats=True)\n",
              "        (downsample): Sequential(\n",
              "          (0): Conv2d(128, 256, kernel_size=(1, 1), stride=(2, 2), bias=False)\n",
              "          (1): BatchNorm2d(256, eps=1e-05, momentum=0.1, affine=True, track_running_stats=True)\n",
              "        )\n",
              "      )\n",
              "      (1): BasicBlock(\n",
              "        (conv1): Conv2d(256, 256, kernel_size=(3, 3), stride=(1, 1), padding=(1, 1), bias=False)\n",
              "        (bn1): BatchNorm2d(256, eps=1e-05, momentum=0.1, affine=True, track_running_stats=True)\n",
              "        (relu): ReLU(inplace=True)\n",
              "        (conv2): Conv2d(256, 256, kernel_size=(3, 3), stride=(1, 1), padding=(1, 1), bias=False)\n",
              "        (bn2): BatchNorm2d(256, eps=1e-05, momentum=0.1, affine=True, track_running_stats=True)\n",
              "      )\n",
              "      (2): BasicBlock(\n",
              "        (conv1): Conv2d(256, 256, kernel_size=(3, 3), stride=(1, 1), padding=(1, 1), bias=False)\n",
              "        (bn1): BatchNorm2d(256, eps=1e-05, momentum=0.1, affine=True, track_running_stats=True)\n",
              "        (relu): ReLU(inplace=True)\n",
              "        (conv2): Conv2d(256, 256, kernel_size=(3, 3), stride=(1, 1), padding=(1, 1), bias=False)\n",
              "        (bn2): BatchNorm2d(256, eps=1e-05, momentum=0.1, affine=True, track_running_stats=True)\n",
              "      )\n",
              "      (3): BasicBlock(\n",
              "        (conv1): Conv2d(256, 256, kernel_size=(3, 3), stride=(1, 1), padding=(1, 1), bias=False)\n",
              "        (bn1): BatchNorm2d(256, eps=1e-05, momentum=0.1, affine=True, track_running_stats=True)\n",
              "        (relu): ReLU(inplace=True)\n",
              "        (conv2): Conv2d(256, 256, kernel_size=(3, 3), stride=(1, 1), padding=(1, 1), bias=False)\n",
              "        (bn2): BatchNorm2d(256, eps=1e-05, momentum=0.1, affine=True, track_running_stats=True)\n",
              "      )\n",
              "      (4): BasicBlock(\n",
              "        (conv1): Conv2d(256, 256, kernel_size=(3, 3), stride=(1, 1), padding=(1, 1), bias=False)\n",
              "        (bn1): BatchNorm2d(256, eps=1e-05, momentum=0.1, affine=True, track_running_stats=True)\n",
              "        (relu): ReLU(inplace=True)\n",
              "        (conv2): Conv2d(256, 256, kernel_size=(3, 3), stride=(1, 1), padding=(1, 1), bias=False)\n",
              "        (bn2): BatchNorm2d(256, eps=1e-05, momentum=0.1, affine=True, track_running_stats=True)\n",
              "      )\n",
              "      (5): BasicBlock(\n",
              "        (conv1): Conv2d(256, 256, kernel_size=(3, 3), stride=(1, 1), padding=(1, 1), bias=False)\n",
              "        (bn1): BatchNorm2d(256, eps=1e-05, momentum=0.1, affine=True, track_running_stats=True)\n",
              "        (relu): ReLU(inplace=True)\n",
              "        (conv2): Conv2d(256, 256, kernel_size=(3, 3), stride=(1, 1), padding=(1, 1), bias=False)\n",
              "        (bn2): BatchNorm2d(256, eps=1e-05, momentum=0.1, affine=True, track_running_stats=True)\n",
              "      )\n",
              "    )\n",
              "    (layer4): Sequential(\n",
              "      (0): BasicBlock(\n",
              "        (conv1): Conv2d(256, 512, kernel_size=(3, 3), stride=(2, 2), padding=(1, 1), bias=False)\n",
              "        (bn1): BatchNorm2d(512, eps=1e-05, momentum=0.1, affine=True, track_running_stats=True)\n",
              "        (relu): ReLU(inplace=True)\n",
              "        (conv2): Conv2d(512, 512, kernel_size=(3, 3), stride=(1, 1), padding=(1, 1), bias=False)\n",
              "        (bn2): BatchNorm2d(512, eps=1e-05, momentum=0.1, affine=True, track_running_stats=True)\n",
              "        (downsample): Sequential(\n",
              "          (0): Conv2d(256, 512, kernel_size=(1, 1), stride=(2, 2), bias=False)\n",
              "          (1): BatchNorm2d(512, eps=1e-05, momentum=0.1, affine=True, track_running_stats=True)\n",
              "        )\n",
              "      )\n",
              "      (1): BasicBlock(\n",
              "        (conv1): Conv2d(512, 512, kernel_size=(3, 3), stride=(1, 1), padding=(1, 1), bias=False)\n",
              "        (bn1): BatchNorm2d(512, eps=1e-05, momentum=0.1, affine=True, track_running_stats=True)\n",
              "        (relu): ReLU(inplace=True)\n",
              "        (conv2): Conv2d(512, 512, kernel_size=(3, 3), stride=(1, 1), padding=(1, 1), bias=False)\n",
              "        (bn2): BatchNorm2d(512, eps=1e-05, momentum=0.1, affine=True, track_running_stats=True)\n",
              "      )\n",
              "      (2): BasicBlock(\n",
              "        (conv1): Conv2d(512, 512, kernel_size=(3, 3), stride=(1, 1), padding=(1, 1), bias=False)\n",
              "        (bn1): BatchNorm2d(512, eps=1e-05, momentum=0.1, affine=True, track_running_stats=True)\n",
              "        (relu): ReLU(inplace=True)\n",
              "        (conv2): Conv2d(512, 512, kernel_size=(3, 3), stride=(1, 1), padding=(1, 1), bias=False)\n",
              "        (bn2): BatchNorm2d(512, eps=1e-05, momentum=0.1, affine=True, track_running_stats=True)\n",
              "      )\n",
              "    )\n",
              "    (avgpool): AdaptiveAvgPool2d(output_size=(1, 1))\n",
              "    (fc): Linear(in_features=512, out_features=10, bias=True)\n",
              "  )\n",
              ")"
            ]
          },
          "execution_count": 9,
          "metadata": {},
          "output_type": "execute_result"
        }
      ],
      "source": [
        "!pip install flopco-pytorch\n",
        "from flopco import FlopCo\n",
        "\n",
        "# Use torchprofile to profile the model\n",
        "stats = FlopCo(teacher_model.to('cpu'), img_size = (1, 3, 32, 32))\n",
        "print(\"Teacher Model FLOPS : \", stats.total_flops)\n",
        "teacher_model.to(device)"
      ]
    },
    {
      "cell_type": "code",
      "execution_count": 10,
      "metadata": {
        "colab": {
          "base_uri": "https://localhost:8080/"
        },
        "id": "veq07466M6_w",
        "outputId": "60a8b3ff-6d37-4747-ef2e-c3847f4c52e2"
      },
      "outputs": [
        {
          "name": "stdout",
          "output_type": "stream",
          "text": [
            "Student Model FLOPS :  80206464\n"
          ]
        },
        {
          "data": {
            "text/plain": [
              "Student(\n",
              "  (features): Sequential(\n",
              "    (0): Conv2d(3, 64, kernel_size=(3, 3), stride=(1, 1), padding=(1, 1))\n",
              "    (1): ReLU(inplace=True)\n",
              "    (2): MaxPool2d(kernel_size=2, stride=2, padding=0, dilation=1, ceil_mode=False)\n",
              "    (3): Conv2d(64, 128, kernel_size=(3, 3), stride=(1, 1), padding=(1, 1))\n",
              "    (4): ReLU(inplace=True)\n",
              "    (5): MaxPool2d(kernel_size=2, stride=2, padding=0, dilation=1, ceil_mode=False)\n",
              "    (6): Conv2d(128, 256, kernel_size=(3, 3), stride=(1, 1), padding=(1, 1))\n",
              "    (7): ReLU(inplace=True)\n",
              "    (8): MaxPool2d(kernel_size=2, stride=2, padding=0, dilation=1, ceil_mode=False)\n",
              "  )\n",
              "  (fc): Sequential(\n",
              "    (0): Linear(in_features=4096, out_features=128, bias=True)\n",
              "    (1): ReLU()\n",
              "    (2): Linear(in_features=128, out_features=10, bias=True)\n",
              "  )\n",
              ")"
            ]
          },
          "execution_count": 10,
          "metadata": {},
          "output_type": "execute_result"
        }
      ],
      "source": [
        "stats = FlopCo(student_model.to('cpu'), img_size = (1, 3, 32, 32))\n",
        "print(\"Student Model FLOPS : \", stats.total_flops)\n",
        "student_model.to(device)"
      ]
    },
    {
      "cell_type": "markdown",
      "metadata": {
        "id": "4SiXwGk0bKOF"
      },
      "source": [
        "I'll be training a Simple model and a Student model :\n",
        "- The student model will be trained using Knowledge Distillation\n",
        "- The simple model will be trained with the basic CNN training method\n",
        "\n",
        "This will help underline the efficiency and the value of Knowledge Distillation"
      ]
    },
    {
      "cell_type": "markdown",
      "metadata": {
        "id": "xZrAGl6palEQ"
      },
      "source": [
        "A giant wrapper to train the student model easily"
      ]
    },
    {
      "cell_type": "code",
      "execution_count": 13,
      "metadata": {
        "id": "94CF4yZNX8ZU"
      },
      "outputs": [],
      "source": [
        "def train_student(student_model, teacher_model, train_loader, test_loader, num_epochs, path_name, lr=0.001, T=5, lmbda=0.8):\n",
        "\n",
        "  student_accuracies = []\n",
        "  student_loss = []\n",
        "\n",
        "  criterion_s = nn.CrossEntropyLoss()\n",
        "  criterion_kd = nn.CrossEntropyLoss()\n",
        "  optimizer_s = optim.Adam(student_model.parameters(), lr=lr)\n",
        "\n",
        "  device = torch.device(\"cuda:0\" if torch.cuda.is_available() else \"cpu\")\n",
        "\n",
        "  teacher_model.to(device)\n",
        "  student_model.to(device)\n",
        "  teacher_model.eval()\n",
        "  for epoch in range(num_epochs):\n",
        "      mean_loss = 0\n",
        "      # Training loop (code from the previous response)\n",
        "      student_model.train()\n",
        "      for inputs, labels in train_loader:\n",
        "        optimizer_s.zero_grad()\n",
        "        inputs = inputs.to(device)\n",
        "        labels = labels.to(device)\n",
        "        with torch.no_grad():\n",
        "            teacher_outputs = teacher_model(inputs)\n",
        "\n",
        "        student_outputs = student_model(inputs)\n",
        "\n",
        "        p = F.log_softmax(student_outputs/T, dim=1) # Why log softmax here but not in q ? Because it aligns with the mathematical formulation of the Kullback-Leibler Divergence\n",
        "        q = F.softmax(teacher_outputs/T, dim=1)\n",
        "\n",
        "        # Used Kullback-Leibler Divergence here for the Teacher output learning loss\n",
        "        l_kl = F.kl_div(p, q, size_average=False) * (T**2) / student_outputs.shape[0]\n",
        "        l_ce = F.cross_entropy(student_outputs, labels)\n",
        "\n",
        "        # lmbda represents the weight of the KL loss (hyperparameter)\n",
        "        total_loss = l_kl * lmbda + l_ce * (1. - lmbda)\n",
        "\n",
        "        mean_loss +=  (1-lmbda) * l_ce.item() + lmbda * l_kl.item()\n",
        "\n",
        "        total_loss.backward()\n",
        "        optimizer_s.step()\n",
        "      mean_loss /= len(train_loader)\n",
        "\n",
        "      student_loss.append(mean_loss)\n",
        "\n",
        "      print(f'Epoch [{epoch+1}/{num_epochs}], Loss: {mean_loss:.4f}')\n",
        "\n",
        "\n",
        "      # Evaluation on the test set\n",
        "      student_model.eval()\n",
        "      student_correct = 0\n",
        "      total = 0\n",
        "\n",
        "      with torch.no_grad():\n",
        "          for inputs, labels in test_loader:\n",
        "              inputs = inputs.to(device)\n",
        "              labels = labels.to(device)\n",
        "\n",
        "              student_outputs = student_model(inputs)\n",
        "              student_predicted = F.softmax(student_outputs, 1)\n",
        "              _, student_predicted = torch.max(student_outputs.data, 1)\n",
        "              student_correct += (student_predicted == labels).sum().item()\n",
        "\n",
        "              total += labels.size(0)\n",
        "\n",
        "      student_accuracy = student_correct / total\n",
        "\n",
        "      student_accuracies.append(student_accuracy)\n",
        "\n",
        "      print(f'Epoch [{epoch+1}/{num_epochs}], '\n",
        "            f'Student Accuracy: {student_accuracy * 100:.2f}%')\n",
        "\n",
        "  torch.save(student_model.state_dict(), path_name)\n",
        "\n",
        "  return student_accuracies, student_loss"
      ]
    },
    {
      "cell_type": "code",
      "execution_count": 14,
      "metadata": {
        "id": "LEoN5KuqmxqV"
      },
      "outputs": [],
      "source": [
        "def test_model(model, test_loader, device):\n",
        "  model.eval()\n",
        "  correct = 0\n",
        "  total = 0\n",
        "\n",
        "  with torch.no_grad():\n",
        "      for inputs, labels in test_loader:\n",
        "          inputs = inputs.to(device)\n",
        "          labels = labels.to(device)\n",
        "\n",
        "          outputs = model(inputs)\n",
        "          outputs = F.softmax(outputs, 1)\n",
        "          _, predicted = torch.max(outputs.data, 1)\n",
        "          correct += (predicted == labels).sum().item()\n",
        "          total += labels.size(0)\n",
        "\n",
        "  accuracy = correct / total\n",
        "  return accuracy"
      ]
    },
    {
      "cell_type": "code",
      "execution_count": 15,
      "metadata": {
        "colab": {
          "base_uri": "https://localhost:8080/"
        },
        "id": "1YXMPYi7JSYN",
        "outputId": "45298eb3-ab6e-4712-f200-8fea04dce4e7"
      },
      "outputs": [
        {
          "name": "stderr",
          "output_type": "stream",
          "text": [
            "/usr/local/lib/python3.10/dist-packages/torch/nn/_reduction.py:51: UserWarning: size_average and reduce args will be deprecated, please use reduction='sum' instead.\n",
            "  warnings.warn(warning.format(ret))\n"
          ]
        },
        {
          "name": "stdout",
          "output_type": "stream",
          "text": [
            "Epoch [1/20], Loss: 10.5361\n",
            "Epoch [1/20], Student Accuracy: 54.91%\n",
            "Epoch [2/20], Loss: 7.2071\n",
            "Epoch [2/20], Student Accuracy: 64.60%\n",
            "Epoch [3/20], Loss: 5.6078\n",
            "Epoch [3/20], Student Accuracy: 70.16%\n",
            "Epoch [4/20], Loss: 4.7018\n",
            "Epoch [4/20], Student Accuracy: 72.16%\n",
            "Epoch [5/20], Loss: 4.1419\n",
            "Epoch [5/20], Student Accuracy: 74.34%\n",
            "Epoch [6/20], Loss: 3.7139\n",
            "Epoch [6/20], Student Accuracy: 76.44%\n",
            "Epoch [7/20], Loss: 3.4573\n",
            "Epoch [7/20], Student Accuracy: 77.65%\n",
            "Epoch [8/20], Loss: 3.2193\n",
            "Epoch [8/20], Student Accuracy: 78.37%\n",
            "Epoch [9/20], Loss: 3.0614\n",
            "Epoch [9/20], Student Accuracy: 79.07%\n",
            "Epoch [10/20], Loss: 2.8918\n",
            "Epoch [10/20], Student Accuracy: 79.08%\n",
            "Epoch [11/20], Loss: 2.7731\n",
            "Epoch [11/20], Student Accuracy: 80.09%\n",
            "Epoch [12/20], Loss: 2.6698\n",
            "Epoch [12/20], Student Accuracy: 81.14%\n",
            "Epoch [13/20], Loss: 2.5823\n",
            "Epoch [13/20], Student Accuracy: 81.71%\n",
            "Epoch [14/20], Loss: 2.4708\n",
            "Epoch [14/20], Student Accuracy: 80.92%\n",
            "Epoch [15/20], Loss: 2.4275\n",
            "Epoch [15/20], Student Accuracy: 82.42%\n",
            "Epoch [16/20], Loss: 2.3575\n",
            "Epoch [16/20], Student Accuracy: 82.05%\n",
            "Epoch [17/20], Loss: 2.2971\n",
            "Epoch [17/20], Student Accuracy: 81.98%\n",
            "Epoch [18/20], Loss: 2.2073\n",
            "Epoch [18/20], Student Accuracy: 82.89%\n",
            "Epoch [19/20], Loss: 2.2254\n",
            "Epoch [19/20], Student Accuracy: 82.72%\n",
            "Epoch [20/20], Loss: 2.1261\n",
            "Epoch [20/20], Student Accuracy: 82.77%\n"
          ]
        }
      ],
      "source": [
        "T = 5\n",
        "lmbda = 0.8 # 80% of the loss will rely on the teacher's output\n",
        "\n",
        "torch.manual_seed(42)\n",
        "student_model = Student(num_classes=10)\n",
        "\n",
        "student_acc, student_loss = train_student(student_model, teacher_model, train_loader, test_loader, path_name=\"./student1.pth\" ,num_epochs=20, lr=0.001, T=T, lmbda=lmbda)"
      ]
    },
    {
      "cell_type": "code",
      "execution_count": null,
      "metadata": {
        "colab": {
          "base_uri": "https://localhost:8080/"
        },
        "id": "L7e5N1k7DcF_",
        "outputId": "1e24d82e-ecb9-40d4-e34e-8b3bf12ecd0e"
      },
      "outputs": [
        {
          "data": {
            "text/plain": [
              "Student(\n",
              "  (features): Sequential(\n",
              "    (0): Conv2d(3, 64, kernel_size=(3, 3), stride=(1, 1), padding=(1, 1))\n",
              "    (1): ReLU(inplace=True)\n",
              "    (2): MaxPool2d(kernel_size=2, stride=2, padding=0, dilation=1, ceil_mode=False)\n",
              "    (3): Conv2d(64, 128, kernel_size=(3, 3), stride=(1, 1), padding=(1, 1))\n",
              "    (4): ReLU(inplace=True)\n",
              "    (5): MaxPool2d(kernel_size=2, stride=2, padding=0, dilation=1, ceil_mode=False)\n",
              "    (6): Conv2d(128, 256, kernel_size=(3, 3), stride=(1, 1), padding=(1, 1))\n",
              "    (7): ReLU(inplace=True)\n",
              "    (8): MaxPool2d(kernel_size=2, stride=2, padding=0, dilation=1, ceil_mode=False)\n",
              "  )\n",
              "  (fc): Sequential(\n",
              "    (0): Linear(in_features=4096, out_features=128, bias=True)\n",
              "    (1): ReLU()\n",
              "    (2): Linear(in_features=128, out_features=10, bias=True)\n",
              "  )\n",
              ")"
            ]
          },
          "execution_count": 53,
          "metadata": {},
          "output_type": "execute_result"
        }
      ],
      "source": [
        "student_model"
      ]
    },
    {
      "cell_type": "markdown",
      "metadata": {
        "id": "SNpJ6QklhbWI"
      },
      "source": [
        "Here I trained the simple model with a classical CNN learning loop"
      ]
    },
    {
      "cell_type": "code",
      "execution_count": 16,
      "metadata": {
        "colab": {
          "base_uri": "https://localhost:8080/"
        },
        "id": "pchZ_Sr-RJEX",
        "outputId": "4facf482-f50c-4a3c-8d11-7ee84cdf00cb"
      },
      "outputs": [
        {
          "name": "stdout",
          "output_type": "stream",
          "text": [
            "Using :  cuda:0\n",
            "Epoch [1/20], Loss: 1.3646\n",
            "Epoch [1/20], Simple Accuracy: 52.93%\n",
            "Epoch [2/20], Loss: 1.0129\n",
            "Epoch [2/20], Simple Accuracy: 65.12%\n",
            "Epoch [3/20], Loss: 0.7756\n",
            "Epoch [3/20], Simple Accuracy: 68.48%\n",
            "Epoch [4/20], Loss: 0.5859\n",
            "Epoch [4/20], Simple Accuracy: 71.66%\n",
            "Epoch [5/20], Loss: 0.8700\n",
            "Epoch [5/20], Simple Accuracy: 73.19%\n",
            "Epoch [6/20], Loss: 0.6350\n",
            "Epoch [6/20], Simple Accuracy: 76.18%\n",
            "Epoch [7/20], Loss: 0.4713\n",
            "Epoch [7/20], Simple Accuracy: 76.74%\n",
            "Epoch [8/20], Loss: 0.6153\n",
            "Epoch [8/20], Simple Accuracy: 78.02%\n",
            "Epoch [9/20], Loss: 0.5236\n",
            "Epoch [9/20], Simple Accuracy: 78.18%\n",
            "Epoch [10/20], Loss: 0.6154\n",
            "Epoch [10/20], Simple Accuracy: 79.18%\n",
            "Epoch [11/20], Loss: 0.3563\n",
            "Epoch [11/20], Simple Accuracy: 79.38%\n",
            "Epoch [12/20], Loss: 0.8091\n",
            "Epoch [12/20], Simple Accuracy: 79.72%\n",
            "Epoch [13/20], Loss: 0.5156\n",
            "Epoch [13/20], Simple Accuracy: 79.82%\n",
            "Epoch [14/20], Loss: 0.3565\n",
            "Epoch [14/20], Simple Accuracy: 80.42%\n",
            "Epoch [15/20], Loss: 0.4322\n",
            "Epoch [15/20], Simple Accuracy: 80.48%\n",
            "Epoch [16/20], Loss: 0.5047\n",
            "Epoch [16/20], Simple Accuracy: 81.44%\n",
            "Epoch [17/20], Loss: 0.3788\n",
            "Epoch [17/20], Simple Accuracy: 81.10%\n",
            "Epoch [18/20], Loss: 0.3485\n",
            "Epoch [18/20], Simple Accuracy: 81.20%\n",
            "Epoch [19/20], Loss: 0.4954\n",
            "Epoch [19/20], Simple Accuracy: 81.76%\n",
            "Epoch [20/20], Loss: 0.6458\n",
            "Epoch [20/20], Simple Accuracy: 81.19%\n"
          ]
        },
        {
          "name": "stderr",
          "output_type": "stream",
          "text": [
            "<ipython-input-16-3cf0e1e5f431>:51: FutureWarning: You are using `torch.load` with `weights_only=False` (the current default value), which uses the default pickle module implicitly. It is possible to construct malicious pickle data which will execute arbitrary code during unpickling (See https://github.com/pytorch/pytorch/blob/main/SECURITY.md#untrusted-models for more details). In a future release, the default value for `weights_only` will be flipped to `True`. This limits the functions that could be executed during unpickling. Arbitrary objects will no longer be allowed to be loaded via this mode unless they are explicitly allowlisted by the user via `torch.serialization.add_safe_globals`. We recommend you start setting `weights_only=True` for any use case where you don't have full control of the loaded file. Please open an issue on GitHub for any issues related to this experimental feature.\n",
            "  simple_model.load_state_dict(torch.load('./simple1.pth'))\n"
          ]
        },
        {
          "data": {
            "text/plain": [
              "<All keys matched successfully>"
            ]
          },
          "execution_count": 16,
          "metadata": {},
          "output_type": "execute_result"
        }
      ],
      "source": [
        "# Training loop of the simple model\n",
        "simple_accuracies = []\n",
        "simple_losses = []\n",
        "\n",
        "criterion_sim = nn.CrossEntropyLoss()\n",
        "optimizer_sim = optim.Adam(simple_model.parameters(), lr=0.001)\n",
        "\n",
        "device = torch.device(\"cuda:0\" if torch.cuda.is_available() else \"cpu\")\n",
        "print(\"Using : \", device)\n",
        "criterion_sim.to(device)\n",
        "simple_model.to(device)\n",
        "num_epochs = 20\n",
        "for epoch in range(num_epochs):\n",
        "    simple_model.train()\n",
        "    mean_loss = 0\n",
        "    for inputs, labels in train_loader:\n",
        "        optimizer_sim.zero_grad()\n",
        "        inputs = inputs.to(device)\n",
        "        labels = labels.to(device)\n",
        "        outputs = simple_model(inputs)\n",
        "        loss = criterion_sim(outputs, labels)\n",
        "        mean_loss += loss.item()\n",
        "\n",
        "        loss.backward()\n",
        "        optimizer_sim.step()\n",
        "\n",
        "    mean_loss /= len(train_loader)\n",
        "    simple_losses.append(mean_loss)\n",
        "    print(f'Epoch [{epoch+1}/{num_epochs}], Loss: {loss.item():.4f}')\n",
        "\n",
        "    simple_model.eval()\n",
        "    simple_correct = 0\n",
        "    total = 0\n",
        "\n",
        "    with torch.no_grad():\n",
        "        for inputs, labels in test_loader:\n",
        "            inputs = inputs.to(device)\n",
        "            labels = labels.to(device)\n",
        "\n",
        "            simple_outputs = simple_model(inputs)\n",
        "            simple_outputs = F.softmax(simple_outputs, 1)\n",
        "            _, simple_predicted = torch.max(simple_outputs.data, 1)\n",
        "            simple_correct += (simple_predicted == labels).sum().item()\n",
        "            total += labels.size(0)\n",
        "\n",
        "    simple_accuracy = simple_correct / total\n",
        "    simple_accuracies.append(simple_accuracy)\n",
        "    print(f'Epoch [{epoch+1}/{num_epochs}], 'f'Simple Accuracy: {simple_accuracy * 100:.2f}%')\n",
        "\n",
        "torch.save(simple_model.state_dict(), \"simple1.pth\")\n",
        "simple_model.load_state_dict(torch.load('./simple1.pth'))"
      ]
    },
    {
      "cell_type": "markdown",
      "metadata": {
        "id": "P3atXRzRGKRX"
      },
      "source": [
        "### Inference time"
      ]
    },
    {
      "cell_type": "markdown",
      "metadata": {
        "id": "mA6MB_ZXhq0b"
      },
      "source": [
        "Here I tried testing every model on the test set in order to compare average inference duration. The idea behind this comparison is to evaluate the Accuracy/Runtime ratio, this could highlight the efficiency of knowledge distillation (keeping high accuracy scores while reducing runtime)"
      ]
    },
    {
      "cell_type": "code",
      "execution_count": 17,
      "metadata": {
        "colab": {
          "base_uri": "https://localhost:8080/"
        },
        "id": "y5Z600p8GJsW",
        "outputId": "23956852-36f7-494c-cfbf-c47e896fd3e2"
      },
      "outputs": [
        {
          "name": "stdout",
          "output_type": "stream",
          "text": [
            "Total teacher inference duration :  2.829699993133545\n",
            "Teacher Accuracy :  0.8659\n"
          ]
        }
      ],
      "source": [
        "# Testing the teacher\n",
        "import time\n",
        "\n",
        "teacher_model.to(device)\n",
        "teacher_model.eval()\n",
        "teacher_correct = 0\n",
        "total = 0\n",
        "\n",
        "t0 = time.time()\n",
        "with torch.no_grad():\n",
        "    for inputs, labels in test_loader:\n",
        "        inputs = inputs.to(device)\n",
        "        labels = labels.to(device)\n",
        "\n",
        "        teacher_outputs = teacher_model(inputs)\n",
        "        teacher_outputs = F.softmax(teacher_outputs, 1)\n",
        "        _, teacher_predicted = torch.max(teacher_outputs.data, 1)\n",
        "        teacher_correct += (teacher_predicted == labels).sum().item()\n",
        "        total += labels.size(0)\n",
        "\n",
        "tf = time.time()\n",
        "duration = tf - t0\n",
        "teacher_accuracy = teacher_correct / total\n",
        "total_duration = duration\n",
        "print(\"Total teacher inference duration : \", total_duration)\n",
        "print(\"Teacher Accuracy : \", teacher_accuracy)"
      ]
    },
    {
      "cell_type": "code",
      "execution_count": 18,
      "metadata": {
        "colab": {
          "base_uri": "https://localhost:8080/"
        },
        "id": "0PnGPf79H2Pi",
        "outputId": "d7c3c457-e9a7-44fb-bcf4-3b9691072fe5"
      },
      "outputs": [
        {
          "name": "stdout",
          "output_type": "stream",
          "text": [
            "Total student inference duration :  2.3718771934509277\n",
            "Student Accuracy :  0.8277\n"
          ]
        }
      ],
      "source": [
        "# Testing the student\n",
        "import time\n",
        "\n",
        "student_model.to(device)\n",
        "student_model.eval()\n",
        "student_correct = 0\n",
        "total = 0\n",
        "\n",
        "t0 = time.time()\n",
        "with torch.no_grad():\n",
        "    for inputs, labels in test_loader:\n",
        "        inputs = inputs.to(device)\n",
        "        labels = labels.to(device)\n",
        "\n",
        "        student_outputs = student_model(inputs)\n",
        "        student_outputs = F.softmax(student_outputs, 1)\n",
        "        _, student_predicted = torch.max(student_outputs.data, 1)\n",
        "        student_correct += (student_predicted == labels).sum().item()\n",
        "        total += labels.size(0)\n",
        "\n",
        "tf = time.time()\n",
        "duration = tf - t0\n",
        "student_accuracy = student_correct / total\n",
        "total_duration = duration\n",
        "print(\"Total student inference duration : \", total_duration)\n",
        "print(\"Student Accuracy : \", student_accuracy)"
      ]
    },
    {
      "cell_type": "markdown",
      "metadata": {
        "id": "VybV-rKpjf_8"
      },
      "source": [
        "For a loss of 0.0382 in accuracy, the runtime of the student is smaller (0.46 seconds of diff) compared to the teacher, we could certainly enhance this ratio even more by reducing the number of parameters and putting more effort in the training phase (early stopping, hyper parameter tuning)\n",
        "\n",
        "Remark : I said certainly because I did not spend enough time in performance related tasks, I was only trying to reproduce the Dark Knowledge effect\n"
      ]
    },
    {
      "cell_type": "markdown",
      "metadata": {
        "id": "X2t0iyPrgo0G"
      },
      "source": [
        "##### Figures"
      ]
    },
    {
      "cell_type": "code",
      "execution_count": 19,
      "metadata": {
        "colab": {
          "base_uri": "https://localhost:8080/",
          "height": 449
        },
        "id": "WXkhChhxQ9ph",
        "outputId": "ce735757-5059-4082-dde8-b5ff2df5fc6a"
      },
      "outputs": [
        {
          "data": {
            "image/png": "[encoded data removed]",
            "text/plain": [
              "<Figure size 640x480 with 1 Axes>"
            ]
          },
          "metadata": {},
          "output_type": "display_data"
        }
      ],
      "source": [
        "import matplotlib.pyplot as plt\n",
        "import numpy as np\n",
        "\n",
        "# Losses of student and simple\n",
        "\n",
        "eps = np.arange(1, 21)\n",
        "plt.plot(eps, student_loss)\n",
        "plt.plot(eps, simple_losses)\n",
        "plt.xlabel('Epochs')\n",
        "plt.ylabel('Loss')\n",
        "plt.legend([\"Student\", \"Simple\"])\n",
        "plt.savefig(\"Losses.png\")"
      ]
    },
    {
      "cell_type": "code",
      "execution_count": 20,
      "metadata": {
        "colab": {
          "base_uri": "https://localhost:8080/",
          "height": 449
        },
        "id": "59ZhHZtamUod",
        "outputId": "5e1ee636-6b37-44f5-9343-0023d8d92408"
      },
      "outputs": [
        {
          "data": {
            "image/png": "[encoded data removed]",
            "text/plain": [
              "<Figure size 640x480 with 1 Axes>"
            ]
          },
          "metadata": {},
          "output_type": "display_data"
        }
      ],
      "source": [
        "# Accuracies of student and simple\n",
        "\n",
        "plt.plot(eps, student_acc)\n",
        "plt.plot(eps, simple_accuracies)\n",
        "plt.xlabel('Epochs')\n",
        "plt.ylabel('Accuracy')\n",
        "plt.legend([\"Student\", \"Classic\"])\n",
        "plt.savefig(\"Accuracies.png\")"
      ]
    },
    {
      "cell_type": "markdown",
      "metadata": {
        "id": "wnZwi_lrc_LR"
      },
      "source": [
        "### Here we do the exact same experiments but we exclude 1 classe from CIFAR10 and test our models on them to see the effect of Dark Knowledge"
      ]
    },
    {
      "cell_type": "code",
      "execution_count": 21,
      "metadata": {
        "id": "nZu-G5mzdJj4"
      },
      "outputs": [],
      "source": [
        "import torch\n",
        "from torchvision import datasets, transforms\n",
        "\n",
        "class CustomCIFAR10(torch.utils.data.Dataset):\n",
        "    def __init__(self, root, train=True, transform=None, target_classes_to_exclude=None):\n",
        "        self.original_dataset = datasets.CIFAR10(root, train=train, transform=transform, download=True)\n",
        "\n",
        "        # Filter out samples from the specified class\n",
        "        if target_classes_to_exclude is not None:\n",
        "            self.data, self.targets = self.filter_class(target_classes_to_exclude)\n",
        "        else:\n",
        "            self.data, self.targets = self.original_dataset.data, self.original_dataset.targets\n",
        "\n",
        "    def filter_class(self, target_classes):\n",
        "        indices = [i for i, label in enumerate(self.original_dataset.targets) if label not in target_classes]\n",
        "        data = [self.original_dataset.data[i] for i in indices]\n",
        "        targets = [label for i, label in enumerate(self.original_dataset.targets) if label not in target_classes]\n",
        "        return data, targets\n",
        "\n",
        "    def __getitem__(self, index):\n",
        "        img, target = self.data[index], self.targets[index]\n",
        "\n",
        "        # If you need to apply a transform, do it here\n",
        "        if self.original_dataset.transform is not None:\n",
        "            img = self.original_dataset.transform(img)\n",
        "\n",
        "        return img, target\n",
        "\n",
        "    def __len__(self):\n",
        "        return len(self.data)\n"
      ]
    },
    {
      "cell_type": "code",
      "execution_count": 22,
      "metadata": {
        "colab": {
          "base_uri": "https://localhost:8080/"
        },
        "id": "9OeFzjgao1u2",
        "outputId": "21f9b3ba-5279-4a3c-c0be-02ae0552838b"
      },
      "outputs": [
        {
          "name": "stdout",
          "output_type": "stream",
          "text": [
            "Files already downloaded and verified\n",
            "Files already downloaded and verified\n",
            "Files already downloaded and verified\n",
            "Files already downloaded and verified\n"
          ]
        }
      ],
      "source": [
        "transform = transforms.Compose([\n",
        "    transforms.ToTensor(),\n",
        "    transforms.Normalize((0.5, 0.5, 0.5), (0.5, 0.5, 0.5))\n",
        "])\n",
        "\n",
        "target_classes_to_exclude = [7] # Exclude Horse class\n",
        "custom_train_dataset = CustomCIFAR10(root='./data', train=True, transform=transform, target_classes_to_exclude=target_classes_to_exclude)\n",
        "custom_test_dataset = CustomCIFAR10(root='./data', train=False, transform=transform, target_classes_to_exclude=target_classes_to_exclude)\n",
        "\n",
        "nohorse_train_loader = torch.utils.data.DataLoader(custom_train_dataset, batch_size=64, shuffle=True)\n",
        "nohorse_test_loader = torch.utils.data.DataLoader(custom_test_dataset, batch_size=64, shuffle=True)\n",
        "\n",
        "target_classes_to_exclude = [0, 1, 2, 3, 4, 5, 6, 8, 9] # Only Horse class\n",
        "custom_train_dataset = CustomCIFAR10(root='./data', train=True, transform=transform, target_classes_to_exclude=target_classes_to_exclude)\n",
        "custom_test_dataset = CustomCIFAR10(root='./data', train=False, transform=transform, target_classes_to_exclude=target_classes_to_exclude)\n",
        "\n",
        "horse_train_loader = torch.utils.data.DataLoader(custom_train_dataset, batch_size=64, shuffle=True)\n",
        "horse_test_loader = torch.utils.data.DataLoader(custom_test_dataset, batch_size=64, shuffle=True)"
      ]
    },
    {
      "cell_type": "code",
      "execution_count": 33,
      "metadata": {
        "id": "n8jJkJR0pZ67"
      },
      "outputs": [],
      "source": [
        "torch.manual_seed(42)\n",
        "simple_model2 = Student(num_classes=10)"
      ]
    },
    {
      "cell_type": "markdown",
      "metadata": {
        "id": "Ho5E3KeulS_C"
      },
      "source": [
        "Here we train the student on CIFAR10 after excluding horse images\n",
        "By the end of the training, the student will have seen all classes but horses"
      ]
    },
    {
      "cell_type": "code",
      "execution_count": 24,
      "metadata": {
        "colab": {
          "base_uri": "https://localhost:8080/"
        },
        "id": "WGh7BLHG8oNs",
        "outputId": "d8035554-f23c-48c3-ade9-d8a84abf2f92"
      },
      "outputs": [
        {
          "name": "stderr",
          "output_type": "stream",
          "text": [
            "/usr/local/lib/python3.10/dist-packages/torch/nn/_reduction.py:51: UserWarning: size_average and reduce args will be deprecated, please use reduction='sum' instead.\n",
            "  warnings.warn(warning.format(ret))\n"
          ]
        },
        {
          "name": "stdout",
          "output_type": "stream",
          "text": [
            "Epoch [1/20], Loss: 9.8391\n",
            "Epoch [1/20], Student Accuracy: 62.68%\n",
            "Epoch [2/20], Loss: 5.8845\n",
            "Epoch [2/20], Student Accuracy: 70.80%\n",
            "Epoch [3/20], Loss: 4.4330\n",
            "Epoch [3/20], Student Accuracy: 74.12%\n",
            "Epoch [4/20], Loss: 3.6267\n",
            "Epoch [4/20], Student Accuracy: 76.46%\n",
            "Epoch [5/20], Loss: 3.1201\n",
            "Epoch [5/20], Student Accuracy: 76.87%\n",
            "Epoch [6/20], Loss: 2.7005\n",
            "Epoch [6/20], Student Accuracy: 78.56%\n",
            "Epoch [7/20], Loss: 2.3918\n",
            "Epoch [7/20], Student Accuracy: 79.61%\n",
            "Epoch [8/20], Loss: 2.0951\n",
            "Epoch [8/20], Student Accuracy: 79.57%\n",
            "Epoch [9/20], Loss: 1.8708\n",
            "Epoch [9/20], Student Accuracy: 79.63%\n",
            "Epoch [10/20], Loss: 1.6827\n",
            "Epoch [10/20], Student Accuracy: 80.03%\n",
            "Epoch [11/20], Loss: 1.5129\n",
            "Epoch [11/20], Student Accuracy: 80.22%\n",
            "Epoch [12/20], Loss: 1.3802\n",
            "Epoch [12/20], Student Accuracy: 79.54%\n",
            "Epoch [13/20], Loss: 1.2622\n",
            "Epoch [13/20], Student Accuracy: 80.20%\n",
            "Epoch [14/20], Loss: 1.1648\n",
            "Epoch [14/20], Student Accuracy: 79.78%\n",
            "Epoch [15/20], Loss: 1.0709\n",
            "Epoch [15/20], Student Accuracy: 80.08%\n",
            "Epoch [16/20], Loss: 1.0115\n",
            "Epoch [16/20], Student Accuracy: 79.52%\n",
            "Epoch [17/20], Loss: 0.9454\n",
            "Epoch [17/20], Student Accuracy: 79.94%\n",
            "Epoch [18/20], Loss: 0.9026\n",
            "Epoch [18/20], Student Accuracy: 80.19%\n",
            "Epoch [19/20], Loss: 0.8518\n",
            "Epoch [19/20], Student Accuracy: 79.82%\n",
            "Epoch [20/20], Loss: 0.8275\n",
            "Epoch [20/20], Student Accuracy: 79.99%\n"
          ]
        }
      ],
      "source": [
        "torch.manual_seed(42)\n",
        "student_model2 = Student(num_classes=10)\n",
        "student2_acc, student2_loss = train_student(student_model2, teacher_model, nohorse_train_loader, nohorse_test_loader, num_epochs=20, path_name=\"./student2.pth\", T=5, lmbda=0.8)"
      ]
    },
    {
      "cell_type": "markdown",
      "metadata": {
        "id": "N1qyAjmeC4Gl"
      },
      "source": [
        "Here I train the simple model (no knowledge distillation) on the horseless dataset too"
      ]
    },
    {
      "cell_type": "code",
      "execution_count": 34,
      "metadata": {
        "colab": {
          "base_uri": "https://localhost:8080/"
        },
        "id": "EJBoBlr-f3IR",
        "outputId": "74a84ba6-7890-4d2b-d551-b7da0356054c"
      },
      "outputs": [
        {
          "name": "stdout",
          "output_type": "stream",
          "text": [
            "Using :  cuda:0\n",
            "Epoch [1/20], Loss: 0.8921\n",
            "Epoch [2/20], Loss: 0.9881\n",
            "Epoch [3/20], Loss: 0.5251\n",
            "Epoch [4/20], Loss: 0.6795\n",
            "Epoch [5/20], Loss: 0.9126\n",
            "Epoch [6/20], Loss: 0.9924\n",
            "Epoch [7/20], Loss: 0.1272\n",
            "Epoch [8/20], Loss: 0.1237\n",
            "Epoch [9/20], Loss: 0.4371\n",
            "Epoch [10/20], Loss: 0.0130\n",
            "Epoch [11/20], Loss: 0.1261\n",
            "Epoch [12/20], Loss: 0.0349\n",
            "Epoch [13/20], Loss: 0.4428\n",
            "Epoch [14/20], Loss: 0.1643\n",
            "Epoch [15/20], Loss: 0.0224\n",
            "Epoch [16/20], Loss: 0.0008\n",
            "Epoch [17/20], Loss: 0.1909\n",
            "Epoch [18/20], Loss: 0.0023\n",
            "Epoch [19/20], Loss: 0.0121\n",
            "Epoch [20/20], Loss: 0.0394\n"
          ]
        }
      ],
      "source": [
        "# Training loop of the simple model\n",
        "\n",
        "criterion_sim = nn.CrossEntropyLoss()\n",
        "optimizer_sim = optim.Adam(simple_model2.parameters(), lr=0.001)\n",
        "\n",
        "device = torch.device(\"cuda:0\" if torch.cuda.is_available() else \"cpu\")\n",
        "print(\"Using : \", device)\n",
        "criterion_sim.to(device)\n",
        "simple_model2.to(device)\n",
        "num_epochs = 20\n",
        "for epoch in range(num_epochs):\n",
        "    simple_model2.train()\n",
        "    mean_loss = 0\n",
        "    for inputs, labels in nohorse_train_loader:\n",
        "        optimizer_sim.zero_grad()\n",
        "        inputs = inputs.to(device)\n",
        "        labels = labels.to(device)\n",
        "        outputs = simple_model2(inputs)\n",
        "        loss = criterion_sim(outputs, labels)\n",
        "        mean_loss += loss.item()\n",
        "\n",
        "        loss.backward()\n",
        "        optimizer_sim.step()\n",
        "\n",
        "    mean_loss /= len(nohorse_train_loader)\n",
        "    print(f'Epoch [{epoch+1}/{num_epochs}], Loss: {loss.item():.4f}')"
      ]
    },
    {
      "cell_type": "markdown",
      "metadata": {
        "id": "MoLPDPPiluks"
      },
      "source": [
        "Here I try to evaluate the student model by plotting the confusion matrix"
      ]
    },
    {
      "cell_type": "code",
      "execution_count": 35,
      "metadata": {
        "colab": {
          "base_uri": "https://localhost:8080/"
        },
        "id": "_6-wUEOkjscp",
        "outputId": "0b1a0fa6-b11e-4f4b-e076-6cc514b678a5"
      },
      "outputs": [
        {
          "name": "stdout",
          "output_type": "stream",
          "text": [
            "Confusion Matrix:\n",
            "[[806  10  58  21  16   3   2   9  49  26]\n",
            " [ 12 873   8   7   1   2   6   3  16  72]\n",
            " [ 34   4 736  60  69  33  34  11  10   9]\n",
            " [ 11   3  56 679  43 125  42  22  12   7]\n",
            " [  6   3  55  59 801  28  21  17   8   2]\n",
            " [ 10   4  49 184  46 662  15  20   4   6]\n",
            " [  3   3  47  52  33  12 836   9   3   2]\n",
            " [ 24   2  83  94 230 154   6 382   3  22]\n",
            " [ 36  17   8  13   4   2   3   1 893  23]\n",
            " [ 28  44   9  18   1   3   4   9  18 866]]\n"
          ]
        }
      ],
      "source": [
        "import torch\n",
        "import numpy as np\n",
        "import torchvision.transforms as transforms\n",
        "from torch.utils.data import DataLoader\n",
        "from sklearn.metrics import confusion_matrix, classification_report\n",
        "\n",
        "student_model2.eval()\n",
        "\n",
        "true_labels = []\n",
        "predicted_labels = []\n",
        "\n",
        "with torch.no_grad():\n",
        "    for inputs, labels in test_loader:\n",
        "        inputs = inputs.to(device)\n",
        "        outputs = student_model2(inputs)\n",
        "        _, predicted = torch.max(outputs, 1)\n",
        "\n",
        "        true_labels.extend(labels.numpy())\n",
        "        predicted_labels.extend(predicted.detach().cpu().numpy())\n",
        "\n",
        "true_labels = np.array(true_labels)\n",
        "predicted_labels = np.array(predicted_labels)\n",
        "\n",
        "conf_matrix = confusion_matrix(true_labels, predicted_labels)\n",
        "\n",
        "print(\"Confusion Matrix:\")\n",
        "print(conf_matrix)"
      ]
    },
    {
      "cell_type": "code",
      "execution_count": 36,
      "metadata": {
        "colab": {
          "base_uri": "https://localhost:8080/",
          "height": 504
        },
        "id": "9uL_V8YSj1Br",
        "outputId": "31cc9339-0381-405c-90b3-f3613c1abd1c"
      },
      "outputs": [
        {
          "name": "stdout",
          "output_type": "stream",
          "text": [
            "Confusion Matrix, without normalization\n"
          ]
        },
        {
          "data": {
            "image/png": "[encoded data removed]",
            "text/plain": [
              "<Figure size 640x480 with 2 Axes>"
            ]
          },
          "metadata": {},
          "output_type": "display_data"
        }
      ],
      "source": [
        "import matplotlib.pyplot as plt\n",
        "\n",
        "def plot_confusion_matrix(conf_matrix, classes, normalize=False, title='Confusion Matrix', cmap=plt.cm.Blues):\n",
        "    if normalize:\n",
        "        conf_matrix = conf_matrix.astype('float') / conf_matrix.sum(axis=1)[:, np.newaxis]\n",
        "        print(\"Normalized Confusion Matrix\")\n",
        "    else:\n",
        "        print('Confusion Matrix, without normalization')\n",
        "\n",
        "    plt.imshow(conf_matrix, interpolation='nearest', cmap=cmap)\n",
        "    plt.title(title)\n",
        "    plt.colorbar()\n",
        "\n",
        "    tick_marks = np.arange(len(classes))\n",
        "    plt.xticks(tick_marks, classes, rotation=45)\n",
        "    plt.yticks(tick_marks, classes)\n",
        "\n",
        "    fmt = '.2f' if normalize else 'd'\n",
        "    thresh = conf_matrix.max() / 2.\n",
        "    for i in range(conf_matrix.shape[0]):\n",
        "        for j in range(conf_matrix.shape[1]):\n",
        "            plt.text(j, i, format(conf_matrix[i, j], fmt),\n",
        "                     ha=\"center\", va=\"center\",\n",
        "                     color=\"white\" if conf_matrix[i, j] > thresh else \"black\")\n",
        "\n",
        "    plt.ylabel('True label')\n",
        "    plt.xlabel('Predicted label')\n",
        "    plt.tight_layout()\n",
        "    plt.savefig('confusion_matrix.png')\n",
        "\n",
        "plot_confusion_matrix(conf_matrix, [str(i) for i in range(10)])"
      ]
    },
    {
      "cell_type": "markdown",
      "metadata": {
        "id": "ulDPJ3fEl0rG"
      },
      "source": [
        "Here I apply the neuron activation trick, I target the seventh neuron from the final layer of the student model by adding 3.0 to it's bias\n",
        "\n",
        "We notice that when the student is tested on the horse dataset only, it reaches an accuracy of 0.738 meaning that it recognized the horses in 74% of the actual horse images without having seen them in the training phase !"
      ]
    },
    {
      "cell_type": "code",
      "execution_count": 37,
      "metadata": {
        "colab": {
          "base_uri": "https://localhost:8080/"
        },
        "id": "ZQr_vK2crf_c",
        "outputId": "96671fa0-da2f-4850-c97e-dcc28a642a9d"
      },
      "outputs": [
        {
          "name": "stdout",
          "output_type": "stream",
          "text": [
            "Parameter containing:\n",
            "tensor([ 0.0510, -0.1231, -0.1187,  0.2254,  0.0510,  0.1381,  0.0296,  5.5329,\n",
            "        -0.0499, -0.0655], device='cuda:0', requires_grad=True)\n",
            "Student 2 Accuracy on unseen class :  0.738\n"
          ]
        }
      ],
      "source": [
        "with torch.no_grad():\n",
        "  x = nn.Parameter(student_model2.fc[2].bias)\n",
        "  x[7] += 3\n",
        "  student_model2.fc[2].bias = x\n",
        "\n",
        "# student_model2 = Student(num_classes=10)\n",
        "# checkpoint_path = './student2.pth'\n",
        "# student_model2.load_state_dict(torch.load(checkpoint_path))\n",
        "student_model2.to(device)\n",
        "print(student_model2.fc[2].bias)\n",
        "\n",
        "student_model2.eval()\n",
        "st2_correct = 0\n",
        "total = 0\n",
        "\n",
        "with torch.no_grad():\n",
        "    for inputs, labels in horse_test_loader:\n",
        "        inputs = inputs.to(device)\n",
        "        labels = labels.to(device)\n",
        "\n",
        "        st2_outputs = student_model2(inputs)\n",
        "        st2_outputs = F.softmax(st2_outputs, 1)\n",
        "        _, st2_predicted = torch.max(st2_outputs.data, 1)\n",
        "        st2_correct += (st2_predicted == labels).sum().item()\n",
        "        total += labels.size(0)\n",
        "\n",
        "st2_accuracy = st2_correct / total\n",
        "print(\"Student 2 Accuracy on unseen class : \", st2_accuracy)\n"
      ]
    },
    {
      "cell_type": "markdown",
      "metadata": {
        "id": "XxzKAhkQsD24"
      },
      "source": [
        "Now we test the student model on the whole test loader (has horse images)\n",
        "\n",
        "We notice that the accuracy of the model on the whole dataset is 0.76 meaning that it still recognizes the rest of classes but with a small decrease in the overall accuracy."
      ]
    },
    {
      "cell_type": "code",
      "execution_count": 39,
      "metadata": {
        "colab": {
          "base_uri": "https://localhost:8080/"
        },
        "id": "WKpDcVviHCpZ",
        "outputId": "95d8feb9-516d-4156-840b-b237b451ba74"
      },
      "outputs": [
        {
          "name": "stdout",
          "output_type": "stream",
          "text": [
            "Parameter containing:\n",
            "tensor([ 0.0510, -0.1231, -0.1187,  0.2254,  0.0510,  0.1381,  0.0296,  5.5329,\n",
            "        -0.0499, -0.0655], device='cuda:0', requires_grad=True)\n",
            "Student 2 Accuracy on the test set :  0.7606\n"
          ]
        }
      ],
      "source": [
        "student_model2.to(device)\n",
        "print(student_model2.fc[2].bias)\n",
        "\n",
        "student_model2.eval()\n",
        "st2_correct = 0\n",
        "total = 0\n",
        "\n",
        "with torch.no_grad():\n",
        "    for inputs, labels in test_loader:\n",
        "        inputs = inputs.to(device)\n",
        "        labels = labels.to(device)\n",
        "\n",
        "        st2_outputs = student_model2(inputs)\n",
        "        st2_outputs = F.softmax(st2_outputs, 1)\n",
        "        _, st2_predicted = torch.max(st2_outputs.data, 1)\n",
        "        st2_correct += (st2_predicted == labels).sum().item()\n",
        "        total += labels.size(0)\n",
        "\n",
        "st2_accuracy = st2_correct / total\n",
        "print(\"Student 2 Accuracy on the test set : \", st2_accuracy)"
      ]
    },
    {
      "cell_type": "code",
      "execution_count": 40,
      "metadata": {
        "colab": {
          "base_uri": "https://localhost:8080/"
        },
        "id": "xBG870iYHuMV",
        "outputId": "7a832467-a11b-4528-de82-f8ea7e5bed4b"
      },
      "outputs": [
        {
          "name": "stdout",
          "output_type": "stream",
          "text": [
            "Confusion Matrix:\n",
            "[[788  10  55  15  14   2   2  45  49  20]\n",
            " [ 11 868   5   3   0   2   6  23  15  67]\n",
            " [ 30   3 695  49  54  27  31  97   9   5]\n",
            " [  9   3  47 613  38 101  40 134  10   5]\n",
            " [  5   3  40  39 734  17  18 135   8   1]\n",
            " [  8   4  39 150  31 615  15 130   3   5]\n",
            " [  3   3  39  42  28  11 821  49   3   1]\n",
            " [ 10   2  39  31 113  60   2 738   0   5]\n",
            " [ 34  17   4   6   2   1   3  25 886  22]\n",
            " [ 24  39   4   8   0   2   3  55  17 848]]\n",
            "\n",
            "Classification Report:\n",
            "              precision    recall  f1-score   support\n",
            "\n",
            "           0       0.85      0.79      0.82      1000\n",
            "           1       0.91      0.87      0.89      1000\n",
            "           2       0.72      0.69      0.71      1000\n",
            "           3       0.64      0.61      0.63      1000\n",
            "           4       0.72      0.73      0.73      1000\n",
            "           5       0.73      0.61      0.67      1000\n",
            "           6       0.87      0.82      0.85      1000\n",
            "           7       0.52      0.74      0.61      1000\n",
            "           8       0.89      0.89      0.89      1000\n",
            "           9       0.87      0.85      0.86      1000\n",
            "\n",
            "    accuracy                           0.76     10000\n",
            "   macro avg       0.77      0.76      0.76     10000\n",
            "weighted avg       0.77      0.76      0.76     10000\n",
            "\n"
          ]
        }
      ],
      "source": [
        "import torch\n",
        "import torchvision.transforms as transforms\n",
        "from torch.utils.data import DataLoader\n",
        "from sklearn.metrics import confusion_matrix, classification_report\n",
        "\n",
        "student_model2.eval()\n",
        "\n",
        "true_labels = []\n",
        "predicted_labels = []\n",
        "\n",
        "with torch.no_grad():\n",
        "    for inputs, labels in test_loader:\n",
        "        inputs = inputs.to(device)\n",
        "        outputs = student_model2(inputs)\n",
        "        _, predicted = torch.max(outputs, 1)\n",
        "\n",
        "        true_labels.extend(labels.numpy())\n",
        "        predicted_labels.extend(predicted.detach().cpu().numpy())\n",
        "\n",
        "true_labels = np.array(true_labels)\n",
        "predicted_labels = np.array(predicted_labels)\n",
        "\n",
        "conf_matrix = confusion_matrix(true_labels, predicted_labels)\n",
        "\n",
        "print(\"Confusion Matrix:\")\n",
        "print(conf_matrix)\n",
        "\n",
        "print(\"\\nClassification Report:\")\n",
        "print(classification_report(true_labels, predicted_labels))\n"
      ]
    },
    {
      "cell_type": "markdown",
      "metadata": {
        "id": "BQEdBkh1tBcK"
      },
      "source": [
        "We notice that the student model struggles more with the False Positives compared to the False Negatives when it comes to predicting class 7 (because Recall > Precision)\n",
        "\n",
        "However, the metrics remain very impressive considering that the model did not see any examples of Class 7"
      ]
    },
    {
      "cell_type": "code",
      "execution_count": 41,
      "metadata": {
        "colab": {
          "base_uri": "https://localhost:8080/",
          "height": 504
        },
        "id": "Kn-MGW63IRMt",
        "outputId": "e947ed8e-e63a-440e-fe7c-0ff37bc276b9"
      },
      "outputs": [
        {
          "name": "stdout",
          "output_type": "stream",
          "text": [
            "Confusion Matrix, without normalization\n"
          ]
        },
        {
          "data": {
            "image/png": "[encoded data removed]",
            "text/plain": [
              "<Figure size 640x480 with 2 Axes>"
            ]
          },
          "metadata": {},
          "output_type": "display_data"
        }
      ],
      "source": [
        "plot_confusion_matrix(conf_matrix, [str(i) for i in range(10)])"
      ]
    },
    {
      "cell_type": "markdown",
      "metadata": {
        "id": "UJj44OOttgDu"
      },
      "source": [
        "The confusion matrix shows a good recall for class 7"
      ]
    },
    {
      "cell_type": "markdown",
      "metadata": {
        "id": "idXJcdeVtw7x"
      },
      "source": [
        "Now we test the simple model (no knowledge distillation) on the horseless dataset"
      ]
    },
    {
      "cell_type": "code",
      "execution_count": 44,
      "metadata": {
        "colab": {
          "base_uri": "https://localhost:8080/"
        },
        "id": "d2X9D_TSg3u3",
        "outputId": "38cbbeff-8ec7-4373-fb12-72755f2405ed"
      },
      "outputs": [
        {
          "name": "stdout",
          "output_type": "stream",
          "text": [
            "Simple model Accuracy on unseen class :  0.0\n"
          ]
        }
      ],
      "source": [
        "simple_model2.eval()\n",
        "sim2_correct = 0\n",
        "total = 0\n",
        "\n",
        "with torch.no_grad():\n",
        "    for inputs, labels in horse_test_loader:\n",
        "        inputs = inputs.to(device)\n",
        "        labels = labels.to(device)\n",
        "\n",
        "        sim2_outputs = simple_model2(inputs)\n",
        "        sim2_outputs = F.softmax(sim2_outputs, 1)\n",
        "        _, sim2_predicted = torch.max(sim2_outputs.data, 1)\n",
        "        sim2_correct += (sim2_predicted == labels).sum().item()\n",
        "        total += labels.size(0)\n",
        "\n",
        "sim2_accuracy = sim2_correct / total\n",
        "print(\"Simple model Accuracy on unseen class : \", sim2_accuracy)\n"
      ]
    },
    {
      "cell_type": "markdown",
      "metadata": {
        "id": "TUpWI3rutyNV"
      },
      "source": [
        "0 accuracy on class 7 of course"
      ]
    },
    {
      "cell_type": "markdown",
      "metadata": {
        "id": "sdaYv9jJt5Wa"
      },
      "source": [
        "### Conclusion\n",
        "\n",
        "- Dark Knowledge is a thing, we could see how using a temperature in the softmaxed outputs of a classifier transfers knowledge from the teacher to the student even with unseen classes\n",
        "- Knowledge Distillation (when done correctly) can help reduce the FLOPS and the runtime of a bigger model while maintaining good performance (Useful for real time apps or model deploiement on small devices)\n",
        "- Reproducing the work of a research paper is a great way of learning, it helps you grasp the concept, see it in action and evaluate it with your own methods"
      ]
    },
    {
      "cell_type": "markdown",
      "metadata": {
        "id": "KmYUJ-Xduyhg"
      },
      "source": [
        "**Farouk Soufary**\n",
        "\n",
        "*Graduate Computer Science engineer from ENSEIRB-MATMECA*\n",
        "\n",
        "*farouksoufary@gmail.com*"
      ]
    }
  ],
  "metadata": {
    "accelerator": "GPU",
    "colab": {
      "gpuType": "T4",
      "provenance": []
    },
    "kernelspec": {
      "display_name": "Python 3 (ipykernel)",
      "language": "python",
      "name": "python3"
    },
    "language_info": {
      "codemirror_mode": {
        "name": "ipython",
        "version": 3
      },
      "file_extension": ".py",
      "mimetype": "text/x-python",
      "name": "python",
      "nbconvert_exporter": "python",
      "pygments_lexer": "ipython3",
      "version": "3.10.12"
    }
  },
  "nbformat": 4,
  "nbformat_minor": 0
}
